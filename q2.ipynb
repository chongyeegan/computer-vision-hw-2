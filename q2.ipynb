{
 "cells": [
  {
   "cell_type": "markdown",
   "metadata": {},
   "source": [
    "# Functions"
   ]
  },
  {
   "cell_type": "code",
   "execution_count": 1,
   "metadata": {
    "collapsed": false
   },
   "outputs": [],
   "source": [
    "import os\n",
    "import math\n",
    "import numpy as np\n",
    "from matplotlib.pylab import imshow, figure, show, savefig, title\n",
    "import matplotlib.cm as cm\n",
    "from skimage import io\n",
    "import skimage.draw as draw\n",
    "import skimage.feature as feature\n",
    "import skimage.filters as filters\n",
    "import scipy.ndimage as nd\n",
    "\n",
    "# Sobel Edge Detector\n",
    "def Sobel(img, thresh):\n",
    "    sobel = filters.sobel(img)\n",
    "    if thresh == \"default\":\n",
    "        thresh = np.absolute(sobel).max()*0.2\n",
    "    for i in range(len(sobel)):\n",
    "        for j in range(len(sobel[i])):\n",
    "            if sobel[i][j] > thresh:\n",
    "                sobel[i][j] = 1\n",
    "            else:\n",
    "                sobel[i][j] = 0\n",
    "    return sobel\n",
    "\n",
    "# given a fixed radius, this function maps an edge map to an accumulator (Hough Space)\n",
    "def HoughSpace(edge_map, radius, usegradient, quant):\n",
    "    h = len(edge_map)\n",
    "    w = len(edge_map[0])\n",
    "    \n",
    "    # storing coordinates of all edges\n",
    "    x_edge = []\n",
    "    y_edge = []\n",
    "    for y in range(h):\n",
    "        for x in range(w):\n",
    "            if edge_map[y][x] == 1:\n",
    "                x_edge.append(x)\n",
    "                y_edge.append(y)\n",
    "                \n",
    "    # initialising accumulator\n",
    "    accumulator = np.zeros((h, w))\n",
    "    \n",
    "    # mapping edge map to accumulator using the formula: a = x +- sqrt(r^2-(y-b)^2)\n",
    "    num_edges = len(x_edge) \n",
    "    r2 = radius*radius\n",
    "    for b in range(0,h,quant):\n",
    "        for n in range(num_edges):\n",
    "            temp = r2 - (y_edge[n] - b)**2 # r^2-(y-b)^2\n",
    "            if temp >= 0: #account for negative square roots\n",
    "                a1 = int(x_edge[n] - math.sqrt(temp))\n",
    "                a2 = int(x_edge[n] + math.sqrt(temp))\n",
    "                for n in range(quant):\n",
    "                    if a1 + n >= 0 and a1 + n <= w-1:\n",
    "                        accumulator[b][a1+n] += 1\n",
    "                    elif a2 + n >= 0 and a2 + n <= w-1:\n",
    "                        accumulator[b][a2+n] += 1\n",
    "                    \n",
    "    return accumulator\n",
    "\n",
    "\n",
    "# this function computes the coordinates of circle centres, given the edge detector type, circle radius and whether gradient is used. It also saves its edge map and Hough Space for reference.\n",
    "def DetectCircles(img, radius, usegradient, quant, filename, edge_type):\n",
    "    # If Canny Edge Detector is used\n",
    "    if edge_type == \"canny\":\n",
    "        if usegradient == \"usegradient\":\n",
    "            edge_map = feature.canny(img)\n",
    "        else:\n",
    "            edge_map = feature.canny(img, low_threshold =0, high_threshold = 0) #threshold = 0 as magnitude of gradient not used\n",
    "    \n",
    "    elif edge_type == \"sobel\":\n",
    "        if usegradient == \"usegradient\":\n",
    "            edge_map = Sobel(img, \"default\") #threshold = 0 as magnitude of gradient not used\n",
    "        else:\n",
    "            edge_map = Sobel(img, 0.0) \n",
    "    \n",
    "    # Drawing Edge Map\n",
    "    imshow(edge_map, cmap=cm.gray)\n",
    "    title(\"Edge Map\")\n",
    "    savefig('Q2/' + filename + 'edgeMap_' + usegradient + '_' + edge_type + '.png')\n",
    "\n",
    "    #Drawing Hough Space\n",
    "    accumulator = HoughSpace(edge_map, radius, usegradient, quant)\n",
    "    imshow(accumulator, cmap=cm.gray)\n",
    "    title(\"Hough Space\")\n",
    "    savefig('Q2/' + filename + 'houghSpace_' + usegradient + '_' + edge_type + '_q' + str(quant) + '.png')\n",
    "\n",
    "    # computing circle centres from local maxima of accumulator \n",
    "    centres = feature.peak_local_max(accumulator, min_distance=radius *2) #determining min_distance as diameter to avoid overlapping circles\n",
    "    return centres\n",
    "\n",
    "\n",
    "# this function detects and draws circles on top of an images, given the circle centre coordinates and radius    \n",
    "def DrawCircles(img, centres, radius, usegradient, quant, filename, edge_type):\n",
    "    h = len(img)\n",
    "    w = len(img[0])\n",
    "    \n",
    "    # Drawing circles\n",
    "    for n in range(len(centres)):\n",
    "        y = centres[n][0]\n",
    "        x = centres[n][1]\n",
    "        yy, xx = draw.circle_perimeter(y,x,radius) # finding pixel corrdinates of circles\n",
    "        for i in range(len(yy)):\n",
    "            if yy[i] < h and xx[i] < w:\n",
    "                img[yy[i]][xx[i]] = 1\n",
    "\n",
    "    #saving Image with drawn circles\n",
    "    imshow(img, cmap=cm.gray)\n",
    "    title(\"Circles\")\n",
    "    if usegradient == \"usegradient\":\n",
    "        savefig('Q2/' + filename + 'circles_usegradient_' + edge_type + '_q' + str(quant) + '.png')\n",
    "    else:\n",
    "        savefig('Q2/' + filename + 'circles_withoutgradient_' + edge_type + '_q' + str(quant) + '.png')\n",
    "\n",
    "# this function draws the circle centres\n",
    "def DrawCentres(img, centres, usegradient, quant, filename, edge_type):\n",
    "    \n",
    "    h = len(img)\n",
    "    w = len(img[0])\n",
    "    \n",
    "    #drawing circle centres on a black background\n",
    "    imgCentres= np.zeros((h,w))\n",
    "    for n in range(len(centres)):\n",
    "        b = centres[n][0]\n",
    "        a = centres[n][1]\n",
    "        if b < h and a < w:\n",
    "            imgCentres[b][a] = 1\n",
    "    \n",
    "    imshow(imgCentres, cmap=cm.gray)\n",
    "    title(\"Centres\")\n",
    "    if usegradient == \"usegradient\":\n",
    "        savefig('Q2/' + filename + 'centres_usegradient_' + edge_type + '_q' + str(quant) +  '.png')\n",
    "    else:\n",
    "        savefig('Q2/' + filename + 'centres_withoutgradient_' + edge_type + '_q' + str(quant) + '.png')"
   ]
  },
  {
   "cell_type": "markdown",
   "metadata": {},
   "source": [
    "# Using Canny, with gradient"
   ]
  },
  {
   "cell_type": "code",
   "execution_count": 4,
   "metadata": {
    "collapsed": false
   },
   "outputs": [],
   "source": [
    "if __name__ == '__main__':\n",
    "    if not os.path.exists(\"Q2\"):\n",
    "        os.makedirs(\"Q2\")\n",
    "    \n",
    "    images = ['Images/Q2/colorful3.jpg',\n",
    "              'Images/Q2/ladybug.jpg',\n",
    "              'Images/Q2/MoonCraters.jpg',\n",
    "              'Images/Q2/Planets.jpeg']\n",
    "    \n",
    "    #Detecting Circles using Canny Edge Detector\n",
    "    for image in images:\n",
    "        fn = image.split('/')[-1].replace(\"jpg\",\"\").replace(\"jpeg\", \"\")\n",
    "        img = io.imread(image, as_grey=True).astype(np.float64)\n",
    "        centres = DetectCircles(img, 50, \"usegradient\", 1, fn, \"canny\")\n",
    "        DrawCentres(img, centres, \"usegradient\", 1, fn, \"canny\")\n",
    "        DrawCircles(img, centres, 50, \"usegradient\", 1, fn, \"canny\")"
   ]
  },
  {
   "cell_type": "markdown",
   "metadata": {},
   "source": [
    "# Using Canny, without gradient"
   ]
  },
  {
   "cell_type": "code",
   "execution_count": null,
   "metadata": {
    "collapsed": true
   },
   "outputs": [],
   "source": [
    "if __name__ == '__main__':\n",
    "    if not os.path.exists(\"Q2\"):\n",
    "        os.makedirs(\"Q2\")\n",
    "    \n",
    "    images = ['Images/Q2/colorful3.jpg',\n",
    "              'Images/Q2/ladybug.jpg',\n",
    "              'Images/Q2/MoonCraters.jpg',\n",
    "              'Images/Q2/Planets.jpeg']\n",
    "    \n",
    "    #Detecting Circles using Canny Edge Detector\n",
    "    for image in images:\n",
    "        fn = image.split('/')[-1].replace(\"jpg\",\"\").replace(\"jpeg\", \"\")\n",
    "        img = io.imread(image, as_grey=True).astype(np.float64)\n",
    "        centres = DetectCircles(img, 50, \"withoutgradient\", 1, fn, \"canny\")\n",
    "        DrawCentres(img, centres, \"withoutgradient\", 1, fn, \"canny\")\n",
    "        DrawCircles(img, centres, 50, \"withoutgradient\", 1, fn, \"canny\")"
   ]
  },
  {
   "cell_type": "markdown",
   "metadata": {},
   "source": [
    "# Using Sobel, with gradient"
   ]
  },
  {
   "cell_type": "code",
   "execution_count": 6,
   "metadata": {
    "collapsed": false
   },
   "outputs": [],
   "source": [
    "if __name__ == '__main__':\n",
    "    if not os.path.exists(\"Q2\"):\n",
    "        os.makedirs(\"Q2\")\n",
    "    \n",
    "    images = ['Images/Q2/colorful3.jpg',\n",
    "              'Images/Q2/ladybug.jpg',\n",
    "              'Images/Q2/MoonCraters.jpg',\n",
    "              'Images/Q2/Planets.jpeg']\n",
    "    \n",
    "    #Detecting Circles using Canny Edge Detector\n",
    "    for image in images:\n",
    "        fn = image.split('/')[-1].replace(\"jpg\",\"\").replace(\"jpeg\", \"\")\n",
    "        img = io.imread(image, as_grey=True).astype(np.float64)\n",
    "        centres = DetectCircles(img, 50, \"usegradient\", 1,  fn, \"sobel\")\n",
    "        DrawCentres(img, centres, \"usegradient\", 1, fn, \"sobel\")\n",
    "        DrawCircles(img, centres, 50, \"usegradient\", 1, fn, \"sobel\")"
   ]
  },
  {
   "cell_type": "markdown",
   "metadata": {},
   "source": [
    "# Using Sobel, without gradient"
   ]
  },
  {
   "cell_type": "code",
   "execution_count": null,
   "metadata": {
    "collapsed": true
   },
   "outputs": [],
   "source": [
    "if __name__ == '__main__':\n",
    "    if not os.path.exists(\"Q2\"):\n",
    "        os.makedirs(\"Q2\")\n",
    "    \n",
    "    images = ['Images/Q2/colorful3.jpg',\n",
    "              'Images/Q2/ladybug.jpg',\n",
    "              'Images/Q2/MoonCraters.jpg',\n",
    "              'Images/Q2/Planets.jpeg']\n",
    "    \n",
    "    #Detecting Circles using Canny Edge Detector\n",
    "    for image in images:\n",
    "        fn = image.split('/')[-1].replace(\"jpg\",\"\").replace(\"jpeg\", \"\")\n",
    "        img = io.imread(image, as_grey=True).astype(np.float64)\n",
    "        centres = DetectCircles(img, 50, \"withoutgradient\", 1, fn, \"sobel\")\n",
    "        DrawCentres(img, centres, \"withoutgradient\", 1, fn, \"sobel\")\n",
    "        DrawCircles(img, centres, 50, \"withoutgradient\", 1, fn, \"sobel\")"
   ]
  },
  {
   "cell_type": "markdown",
   "metadata": {},
   "source": [
    "# Different Quantization"
   ]
  },
  {
   "cell_type": "code",
   "execution_count": null,
   "metadata": {
    "collapsed": false
   },
   "outputs": [],
   "source": [
    "if __name__ == '__main__':\n",
    "    if not os.path.exists(\"Q2\"):\n",
    "        os.makedirs(\"Q2\")\n",
    "\n",
    "    for quant in range(1,4):\n",
    "        fn = 'colorful3_'\n",
    "        img = io.imread('Images/Q2/colorful3.jpg', as_grey=True).astype(np.float64)\n",
    "        centres = DetectCircles(img, 50, \"usegradient\", quant, fn, \"sobel\")\n",
    "        DrawCentres(img, centres, \"usegradient\", quant, fn, \"sobel\")\n",
    "        DrawCircles(img, centres, 50, \"usegradient\", quant, fn, \"sobel\")"
   ]
  },
  {
   "cell_type": "code",
   "execution_count": null,
   "metadata": {
    "collapsed": false
   },
   "outputs": [],
   "source": []
  },
  {
   "cell_type": "code",
   "execution_count": null,
   "metadata": {
    "collapsed": true
   },
   "outputs": [],
   "source": []
  }
 ],
 "metadata": {
  "kernelspec": {
   "display_name": "Python 2",
   "language": "python",
   "name": "python2"
  },
  "language_info": {
   "codemirror_mode": {
    "name": "ipython",
    "version": 2
   },
   "file_extension": ".py",
   "mimetype": "text/x-python",
   "name": "python",
   "nbconvert_exporter": "python",
   "pygments_lexer": "ipython2",
   "version": "2.7.11"
  }
 },
 "nbformat": 4,
 "nbformat_minor": 0
}
