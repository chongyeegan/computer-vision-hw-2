{
 "cells": [
  {
   "cell_type": "markdown",
   "metadata": {},
   "source": [
    "# Functions"
   ]
  },
  {
   "cell_type": "code",
   "execution_count": 16,
   "metadata": {
    "collapsed": false
   },
   "outputs": [],
   "source": [
    "from matplotlib.pylab import imshow, figure, show, savefig, title\n",
    "import matplotlib.pyplot as plt\n",
    "import matplotlib.cm as cm\n",
    "import numpy as np\n",
    "import math\n",
    "import os\n",
    "from skimage import io\n",
    "from skimage import color\n",
    "import scipy.ndimage.filters as filters\n",
    "    \n",
    "#function to create a Gaussian kernel of shape (n,n) and sigma\n",
    "def GaussKernel(shape=(5,5),sigma=1):\n",
    "    m,n = [(ss-1.)/2. for ss in shape]\n",
    "    y,x = np.ogrid[-m:m+1,-n:n+1]\n",
    "    h = np.exp( -(x*x + y*y) / (2.*sigma*sigma) )\n",
    "    h[ h < np.finfo(h.dtype).eps*h.max() ] = 0\n",
    "    sumh = h.sum()\n",
    "    if sumh != 0:\n",
    "        h /= sumh\n",
    "    return h\n",
    "\n",
    "# function to apply gaussian filter to an image\n",
    "def GaussianBlur(img, sig):\n",
    "    win = GaussKernel((5,5),sig)\n",
    "    blurred = filters.convolve(img, win, mode=\"constant\", cval=0.0)\n",
    "    return blurred\n",
    "\n",
    "# function upsamples an image, smoothes it and then multiplies the results by a scalar of 4 to compensate for downsampling\n",
    "def UpSample(img, previous, sig):\n",
    "    #upsampling by adding all even rows and columns with zeros\n",
    "    img = img.astype(np.float64)\n",
    "    h = len(previous)\n",
    "    w = len(previous[0])\n",
    "    \n",
    "    #account for the fact that images with odd/even shapes were downsampled differently (image.shape/2)\n",
    "    if h%2 == 0: \n",
    "        for i in range(1, len(img)*2, 2):\n",
    "            img = np.insert(img, i, 0, axis=0)\n",
    "    if w%2 == 0:\n",
    "        for j in range(1, len(img[0])*2, 2):\n",
    "            img = np.insert(img, j, 0, axis=1)\n",
    "    if h%2 != 0:\n",
    "        for i in range(1, len(img)*2-2, 2):\n",
    "            img = np.insert(img, i, 0, axis=0)\n",
    "    if w%2 != 0:    \n",
    "        for j in range(1, (len(img[0])*2)-2, 2):\n",
    "            img = np.insert(img, j, 0, axis=1)\n",
    "            \n",
    "    #blurring image with same filter as downsampling\n",
    "    img = GaussianBlur(img, sig)*4\n",
    "    \n",
    "    return img\n",
    "\n",
    "# function creates and saves Laplacian and Gaussian Pyramids of an image\n",
    "def CreatePyramids(img, filename, pyr_number, sig):\n",
    "    pyrGauss = []\n",
    "    pyrLap = []\n",
    "    pyrGauss.append(img)\n",
    "\n",
    "    #creating Gaussian Pyramid\n",
    "    for i in range(1,pyr_number):\n",
    "        blurred = GaussianBlur(pyrGauss[i-1], sig)\n",
    "        downSample = blurred[::2, ::2].astype(np.float64) #downsample by deleting all even rows and columns\n",
    "        pyrGauss.append(downSample)\n",
    "    \n",
    "    #creating Laplaccian Pyramid\n",
    "    for n in range(pyr_number-1):\n",
    "        current = pyrGauss[n+1]\n",
    "        previous = pyrGauss[n]\n",
    "        upSampled = UpSample(current, previous, sig)    \n",
    "        pyrLap.append(pyrGauss[n] - upSampled) #Lap_n = Gauss_n - Gauss_n+1\n",
    "    pyrLap.append(pyrGauss[pyr_number-1])\n",
    "    \n",
    "    #saving the Pyramids as images in folder Q1\n",
    "    for i in range(len(pyrGauss)):\n",
    "        figure(i)\n",
    "        imshow(pyrGauss[i], cmap=cm.Greys_r)\n",
    "        title(filename + \"_G_\" + str(i))\n",
    "        savefig('Q1/' + filename + '_G_' + str(i) + '.png')\n",
    "        \n",
    "    for i in range(len(pyrLap)):\n",
    "        figure(i)\n",
    "        imshow(pyrLap[i], cmap=cm.Greys_r)\n",
    "        title(filename + \"_L_\" + str(i))\n",
    "        savefig('Q1/' + filename + '_L_' + str(i) + '.png')\n",
    "        \n",
    "    return pyrGauss, pyrLap\n",
    "\n",
    "# function reconstructs an image from its Laplacian Pyramids\n",
    "def Reconstruct(pyrLap, filename, sig):\n",
    "    \n",
    "    pyr_number = len(pyrLap)\n",
    "    \n",
    "    img = pyrLap[pyr_number-1]\n",
    "    for n in range(pyr_number-2,-1,-1):\n",
    "        previous = pyrLap[n]\n",
    "        img = UpSample(img, previous, sig)\n",
    "        img += previous\n",
    "    \n",
    "    img = ((img + 255)/2).astype(np.float64)\n",
    "    \n",
    "    figure(1)\n",
    "    imshow(img, cmap=cm.Greys_r)\n",
    "    title(filename + \"_Reconstructed\")\n",
    "    savefig('Q1/' + filename + '_reconstructed_img.png')\n",
    "    return img\n",
    "\n",
    "# function to sharpen an image, given 2 images' Laplacian Pyramids\n",
    "def EnhanceImage(pyrLap1, pyrLap2, sig):\n",
    "    newPyrLap = []\n",
    "    \n",
    "    for n in range(0,len(pyrLap1)-1):\n",
    "        mask = np.zeros(pyrLap1[n].shape)\n",
    "        for i in range(len(pyrLap1[n])):\n",
    "            for j in range(len(pyrLap1[n][i])):\n",
    "                if abs(pyrLap1[n][i][j]) > abs(pyrLap2[n][i][j]):\n",
    "                    mask[i][j] = pyrLap1[n][i][j]\n",
    "                else:\n",
    "                    mask[i][j] = pyrLap2[n][i][j]\n",
    "        newPyrLap.append(mask)\n",
    "    \n",
    "    mask = np.zeros(pyrLap1[3].shape)\n",
    "    for i in range(len(pyrLap1[3])):\n",
    "        for j in range(len(pyrLap1[3][i])):\n",
    "            mask[i][j] = (pyrLap1[3][i][j] + pyrLap2[3][i][j])/2\n",
    "    newPyrLap.append(mask)\n",
    "    \n",
    "            \n",
    "    recImg = Reconstruct(newPyrLap, \"enhanced\", sig)\n",
    "\n",
    "# function compares two images to see if they are identical in both shape and pixel values\n",
    "def CompareImages(ori_img, rec_img):\n",
    "    array_diff = np.amax(ori_img-rec_img)\n",
    "    if ori_img.shape == rec_img.shape and (array_diff <= 1 or array_diff >= -1):\n",
    "        print \"Identical\"\n",
    "    else:\n",
    "        print \"Not Identical\"\n",
    "\n",
    "    \n",
    "\n"
   ]
  },
  {
   "cell_type": "markdown",
   "metadata": {},
   "source": [
    "# Task 2 - Building Pyramids"
   ]
  },
  {
   "cell_type": "code",
   "execution_count": null,
   "metadata": {
    "collapsed": false
   },
   "outputs": [],
   "source": [
    "#Build Gaussian and Laplacian Pyramids for the images mandril.tif and toucan.tif. What are the differences between the\n",
    "#Laplacian Pyramids of the two images? Explain.\n",
    "\n",
    "if __name__ == '__main__':\n",
    "    if not os.path.exists(\"Q1\"):\n",
    "        os.makedirs(\"Q1\")\n",
    "\n",
    "    images = ['Images/Q1/mandril.tif',\n",
    "              'Images/Q1/toucan.tif']\n",
    "              \n",
    "    for image in images:\n",
    "        fn = image.split('/')[-1]\n",
    "        img = io.imread(image)[0].astype(np.float64)\n",
    "        pyrGauss, pyrLap = CreatePyramids(img, fn,5,1)\n",
    "\n"
   ]
  },
  {
   "cell_type": "markdown",
   "metadata": {},
   "source": [
    "# Task 3 - Reconstructing Image"
   ]
  },
  {
   "cell_type": "code",
   "execution_count": 12,
   "metadata": {
    "collapsed": false
   },
   "outputs": [
    {
     "name": "stdout",
     "output_type": "stream",
     "text": [
      "Identical\n",
      "Identical\n"
     ]
    }
   ],
   "source": [
    "#Reconstruct the original images from their Laplacian Pyramids. Show in a simple way that the original images and \n",
    "#the reconstructed ones are identical.\n",
    "\n",
    "if __name__ == '__main__':\n",
    "    if not os.path.exists(\"Q1\"):\n",
    "        os.makedirs(\"Q1\")\n",
    "\n",
    "    images = ['Images/Q1/mandril.tif',\n",
    "              'Images/Q1/toucan.tif']\n",
    "\n",
    "    for image in images:\n",
    "        fn = image.split('/')[-1]\n",
    "        img = io.imread(image)[0].astype(np.float64)\n",
    "        pyrGauss, pyrLap = CreatePyramids(img, fn, 5, 1)\n",
    "        recImg = Reconstruct(pyrLap, fn, 1)\n",
    "        CompareImages(img, recImg)\n",
    "        "
   ]
  },
  {
   "cell_type": "markdown",
   "metadata": {},
   "source": [
    "# Task 4 - Image Enhancement"
   ]
  },
  {
   "cell_type": "code",
   "execution_count": 17,
   "metadata": {
    "collapsed": false
   },
   "outputs": [],
   "source": [
    "#Implement an image enhancement method for the images focus1.tif and focus2.tif. The method should create a \n",
    "#single entirely-focused image from the two partially-focused ones. Use a pyramid with four levels. \n",
    "#Show the results and discuss their quality.\n",
    "\n",
    "#reference http://www.cs.toronto.edu/~jepson/csc320/notes/pyramids.pdf\n",
    "\n",
    "if __name__ == '__main__':\n",
    "    if not os.path.exists(\"Q1\"):\n",
    "        os.makedirs(\"Q1\")\n",
    "    \n",
    "    focus1 = io.imread('Images/Q1/focus1.tif').astype(np.float64)\n",
    "    focus2 = io.imread('Images/Q1/focus2.tif').astype(np.float64)\n",
    "    \n",
    "    #create pyramids for both images\n",
    "    pyrGauss1, pyrLap1 = CreatePyramids(focus1, 'focus1', 4, 1)\n",
    "    pyrGauss2, pyrLap2 = CreatePyramids(focus2, 'focus2', 4, 1)\n",
    "    \n",
    "    EnhanceImage(pyrLap1, pyrLap2, 1)\n",
    "    "
   ]
  },
  {
   "cell_type": "code",
   "execution_count": null,
   "metadata": {
    "collapsed": true
   },
   "outputs": [],
   "source": []
  }
 ],
 "metadata": {
  "kernelspec": {
   "display_name": "Python 2",
   "language": "python",
   "name": "python2"
  },
  "language_info": {
   "codemirror_mode": {
    "name": "ipython",
    "version": 2
   },
   "file_extension": ".py",
   "mimetype": "text/x-python",
   "name": "python",
   "nbconvert_exporter": "python",
   "pygments_lexer": "ipython2",
   "version": "2.7.11"
  }
 },
 "nbformat": 4,
 "nbformat_minor": 0
}
