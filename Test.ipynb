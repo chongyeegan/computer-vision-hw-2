{
 "cells": [
  {
   "cell_type": "code",
   "execution_count": 30,
   "metadata": {
    "collapsed": true
   },
   "outputs": [],
   "source": [
    "%matplotlib inline\n",
    "\n",
    "import matplotlib as mpl\n",
    "# mpl.use('TkAgg')\n",
    "# import matplotlib.cm as cm\n",
    "# from scipy.ndimage import filters as filters\n",
    "from skimage import io, color, util\n",
    "import numpy as np\n",
    "# import math\n",
    "import os\n",
    "# import utils as custom_utils\n",
    "import collections as coll\n",
    "import sys"
   ]
  },
  {
   "cell_type": "code",
   "execution_count": 8,
   "metadata": {
    "collapsed": false
   },
   "outputs": [],
   "source": [
    "# params\n",
    "images = ['Images/Q3/castle.jpg']\n",
    "image = io.imread(images[0])\n",
    "n_segments = 100 # k\n",
    "max_iter = 10\n",
    "spatial_weight = 1"
   ]
  },
  {
   "cell_type": "code",
   "execution_count": 20,
   "metadata": {
    "collapsed": false
   },
   "outputs": [
    {
     "name": "stdout",
     "output_type": "stream",
     "text": [
      "(313, 500, 3)\n"
     ]
    }
   ],
   "source": [
    "# image = color.rgb2lab(image)\n",
    "height, width = image.shape[:2]\n",
    "print image.shape"
   ]
  },
  {
   "cell_type": "code",
   "execution_count": 12,
   "metadata": {
    "collapsed": false
   },
   "outputs": [],
   "source": [
    "def get_k_centers(k, height, width):\n",
    "    grid_y, grid_x = np.mgrid[:height, :width]\n",
    "    slices = util.regular_grid((height, width), k)\n",
    "    step_y, step_x = [int(s.step if s.step is not None else 1) for s in slices]\n",
    "    segments_y = grid_y[slices]\n",
    "    segments_x = grid_x[slices]\n",
    "    \n",
    "    centers = np.concatenate([segments_y[..., np.newaxis], segments_x[..., np.newaxis]], axis=-1)\n",
    "    centers = centers.reshape(-1, 2)\n",
    "    \n",
    "    return centers, step_y, step_x"
   ]
  },
  {
   "cell_type": "code",
   "execution_count": 13,
   "metadata": {
    "collapsed": false
   },
   "outputs": [],
   "source": [
    "segments_xy, step_y, step_x = get_k_centers(n_segments, height, width)"
   ]
  },
  {
   "cell_type": "code",
   "execution_count": 14,
   "metadata": {
    "collapsed": true
   },
   "outputs": [],
   "source": [
    "def get_window_bounds(center, step_y, step_x, height, width):\n",
    "    cy = center[0]\n",
    "    cx = center[1]\n",
    "\n",
    "    y_min = max(cy - step_y, 0)\n",
    "    y_max = min(cy + step_y + 1, height)\n",
    "    x_min = max(cx - step_x, 0)\n",
    "    x_max = min(cx + step_x + 1, width)\n",
    "    return y_min, y_max, x_min, x_max"
   ]
  },
  {
   "cell_type": "code",
   "execution_count": 91,
   "metadata": {
    "collapsed": true
   },
   "outputs": [],
   "source": [
    "def generate_feature_old(points, image):\n",
    "    colors = np.zeros((points.shape[0],) + (image.shape[2],))\n",
    "    colors = colors.reshape(-1, image.shape[2])\n",
    "    features = np.concatenate([colors, points], axis=-1)\n",
    "    for feature in features:\n",
    "        for i in xrange(image.shape[2]):\n",
    "            feature[i] = image[feature[-2]][feature[-1]][i]\n",
    "    return features"
   ]
  },
  {
   "cell_type": "code",
   "execution_count": 156,
   "metadata": {
    "collapsed": false
   },
   "outputs": [],
   "source": [
    "def generate_feature(point, image):\n",
    "    color = np.zeros((image.shape[2],))\n",
    "    feature = np.concatenate([color, point], axis=-1)\n",
    "    for i in xrange(image.shape[2]):\n",
    "        feature[i] = image[feature[-2]][feature[-1]][i]\n",
    "    return feature"
   ]
  },
  {
   "cell_type": "code",
   "execution_count": 166,
   "metadata": {
    "collapsed": false
   },
   "outputs": [],
   "source": [
    "def calculate_distance(vector, center, spatial_weight):\n",
    "    dy = (center[-2] - vector[-2]) ** 2\n",
    "    dist_center = (dy + (center[-1] - vector[-1]) ** 2) * spatial_weight\n",
    "\n",
    "    dist_color = 0\n",
    "    for c in range(3, n_features):\n",
    "        dist_color += (image_zyx[z, y, x, c - 3]\n",
    "                        - segments[k, c]) ** 2\n",
    "    return"
   ]
  },
  {
   "cell_type": "code",
   "execution_count": 168,
   "metadata": {
    "collapsed": false,
    "scrolled": true
   },
   "outputs": [
    {
     "name": "stdout",
     "output_type": "stream",
     "text": [
      "(313, 500)\n",
      "(313, 500)\n"
     ]
    },
    {
     "name": "stderr",
     "output_type": "stream",
     "text": [
      "/usr/local/lib/python2.7/site-packages/ipykernel/__main__.py:5: DeprecationWarning: using a non-integer number instead of an integer will result in an error in the future\n"
     ]
    },
    {
     "ename": "TypeError",
     "evalue": "exceptions must be old-style classes or derived from BaseException, not NoneType",
     "output_type": "error",
     "traceback": [
      "\u001b[0;31m---------------------------------------------------------------------------\u001b[0m",
      "\u001b[0;31mTypeError\u001b[0m                                 Traceback (most recent call last)",
      "\u001b[0;32m<ipython-input-168-a702349fa41b>\u001b[0m in \u001b[0;36m<module>\u001b[0;34m()\u001b[0m\n\u001b[1;32m     19\u001b[0m                 \u001b[0myx_feat\u001b[0m \u001b[0;34m=\u001b[0m \u001b[0mgenerate_feature\u001b[0m\u001b[0;34m(\u001b[0m\u001b[0;34m(\u001b[0m\u001b[0my\u001b[0m\u001b[0;34m,\u001b[0m \u001b[0mx\u001b[0m\u001b[0;34m)\u001b[0m\u001b[0;34m,\u001b[0m \u001b[0mimage\u001b[0m\u001b[0;34m)\u001b[0m\u001b[0;34m\u001b[0m\u001b[0m\n\u001b[1;32m     20\u001b[0m                 \u001b[0mcalculate_distance\u001b[0m\u001b[0;34m(\u001b[0m\u001b[0myx_feat\u001b[0m\u001b[0;34m,\u001b[0m \u001b[0mc_feat\u001b[0m\u001b[0;34m,\u001b[0m \u001b[0mspatial_weight\u001b[0m\u001b[0;34m)\u001b[0m\u001b[0;34m\u001b[0m\u001b[0m\n\u001b[0;32m---> 21\u001b[0;31m                 \u001b[0;32mraise\u001b[0m\u001b[0;34m\u001b[0m\u001b[0m\n\u001b[0m\u001b[1;32m     22\u001b[0m \u001b[0;34m\u001b[0m\u001b[0m\n",
      "\u001b[0;31mTypeError\u001b[0m: exceptions must be old-style classes or derived from BaseException, not NoneType"
     ]
    }
   ],
   "source": [
    "n_centers = segments_xy.shape[0]\n",
    "\n",
    "nearest_segments = np.empty((height, width), dtype=np.intp)\n",
    "distance = np.empty((height, width), dtype=np.double)\n",
    "n_segment_elems = np.zeros(n_segments, dtype=np.intp)\n",
    "\n",
    "for i in xrange(max_iter):\n",
    "    change = 0\n",
    "    distance[:, :] = sys.float_info.max\n",
    "    for k in xrange(n_centers):\n",
    "        c = segments_xy[k]\n",
    "        c_feat = generate_feature(c, image)\n",
    "        y_min, y_max, x_min, x_max = get_window_bounds(c, step_y, step_x, height, width)\n",
    "        for y in xrange(y_min, y_max):\n",
    "            for x in xrange(x_min, x_max):\n",
    "                yx_feat = generate_feature((y, x), image)\n",
    "                calculate_distance(yx_feat, c_feat, spatial_weight)\n",
    "                raise\n",
    "                "
   ]
  },
  {
   "cell_type": "code",
   "execution_count": null,
   "metadata": {
    "collapsed": true
   },
   "outputs": [],
   "source": []
  },
  {
   "cell_type": "code",
   "execution_count": 28,
   "metadata": {
    "collapsed": false
   },
   "outputs": [
    {
     "ename": "NameError",
     "evalue": "name 'segments_x' is not defined",
     "output_type": "error",
     "traceback": [
      "\u001b[0;31m---------------------------------------------------------------------------\u001b[0m",
      "\u001b[0;31mNameError\u001b[0m                                 Traceback (most recent call last)",
      "\u001b[0;32m<ipython-input-28-9d1b29576181>\u001b[0m in \u001b[0;36m<module>\u001b[0;34m()\u001b[0m\n\u001b[0;32m----> 1\u001b[0;31m \u001b[0msegments_color\u001b[0m \u001b[0;34m=\u001b[0m \u001b[0mnp\u001b[0m\u001b[0;34m.\u001b[0m\u001b[0mzeros\u001b[0m\u001b[0;34m(\u001b[0m\u001b[0msegments_x\u001b[0m\u001b[0;34m.\u001b[0m\u001b[0mshape\u001b[0m \u001b[0;34m+\u001b[0m \u001b[0;34m(\u001b[0m\u001b[0mimage\u001b[0m\u001b[0;34m.\u001b[0m\u001b[0mshape\u001b[0m\u001b[0;34m[\u001b[0m\u001b[0;36m2\u001b[0m\u001b[0;34m]\u001b[0m\u001b[0;34m,\u001b[0m\u001b[0;34m)\u001b[0m\u001b[0;34m)\u001b[0m\u001b[0;34m\u001b[0m\u001b[0m\n\u001b[0m\u001b[1;32m      2\u001b[0m \u001b[0msegments_color\u001b[0m \u001b[0;34m=\u001b[0m \u001b[0msegments_color\u001b[0m\u001b[0;34m.\u001b[0m\u001b[0mreshape\u001b[0m\u001b[0;34m(\u001b[0m\u001b[0;34m-\u001b[0m\u001b[0;36m1\u001b[0m\u001b[0;34m,\u001b[0m \u001b[0mimage\u001b[0m\u001b[0;34m.\u001b[0m\u001b[0mshape\u001b[0m\u001b[0;34m[\u001b[0m\u001b[0;36m2\u001b[0m\u001b[0;34m]\u001b[0m\u001b[0;34m)\u001b[0m\u001b[0;34m\u001b[0m\u001b[0m\n\u001b[1;32m      3\u001b[0m \u001b[0;34m\u001b[0m\u001b[0m\n\u001b[1;32m      4\u001b[0m \u001b[0;31m# print np.concatenate([segments_color, segments_xy], axis=-1)\u001b[0m\u001b[0;34m\u001b[0m\u001b[0;34m\u001b[0m\u001b[0m\n",
      "\u001b[0;31mNameError\u001b[0m: name 'segments_x' is not defined"
     ]
    }
   ],
   "source": [
    "segments_color = np.zeros(segments_x.shape + (image.shape[2],))\n",
    "segments_color = segments_color.reshape(-1, image.shape[2])\n",
    "\n",
    "# print np.concatenate([segments_color, segments_xy], axis=-1)"
   ]
  },
  {
   "cell_type": "code",
   "execution_count": 307,
   "metadata": {
    "collapsed": false
   },
   "outputs": [],
   "source": [
    "# compactness=10.\n",
    "# ratio = 1.0 / compactness"
   ]
  },
  {
   "cell_type": "code",
   "execution_count": null,
   "metadata": {
    "collapsed": false
   },
   "outputs": [],
   "source": []
  },
  {
   "cell_type": "code",
   "execution_count": null,
   "metadata": {
    "collapsed": true
   },
   "outputs": [],
   "source": []
  }
 ],
 "metadata": {
  "kernelspec": {
   "display_name": "Python 2",
   "language": "python",
   "name": "python2"
  },
  "language_info": {
   "codemirror_mode": {
    "name": "ipython",
    "version": 2
   },
   "file_extension": ".py",
   "mimetype": "text/x-python",
   "name": "python",
   "nbconvert_exporter": "python",
   "pygments_lexer": "ipython2",
   "version": "2.7.11"
  }
 },
 "nbformat": 4,
 "nbformat_minor": 0
}
