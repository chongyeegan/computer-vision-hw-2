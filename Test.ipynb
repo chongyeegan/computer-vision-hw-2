{
 "cells": [
  {
   "cell_type": "code",
   "execution_count": 1,
   "metadata": {
    "collapsed": true
   },
   "outputs": [],
   "source": [
    "%matplotlib inline\n",
    "\n",
    "import matplotlib as mpl\n",
    "# mpl.use('TkAgg')\n",
    "# import matplotlib.cm as cm\n",
    "# from scipy.ndimage import filters as filters\n",
    "from skimage import io, color, util\n",
    "import numpy as np\n",
    "# import math\n",
    "import os\n",
    "# import utils as custom_utils\n",
    "import collections as coll\n",
    "import sys"
   ]
  },
  {
   "cell_type": "code",
   "execution_count": 2,
   "metadata": {
    "collapsed": false
   },
   "outputs": [],
   "source": [
    "def get_k_centers(k, height, width):\n",
    "    grid_y, grid_x = np.mgrid[:height, :width]\n",
    "    slices = util.regular_grid((height, width), k)\n",
    "    step_y, step_x = [int(s.step if s.step is not None else 1) for s in slices]\n",
    "    segments_y = grid_y[slices]\n",
    "    segments_x = grid_x[slices]\n",
    "    \n",
    "    centers = np.concatenate([segments_y[..., np.newaxis], segments_x[..., np.newaxis]], axis=-1)\n",
    "    centers = centers.reshape(-1, 2)\n",
    "    \n",
    "    return centers, step_y, step_x"
   ]
  },
  {
   "cell_type": "code",
   "execution_count": 3,
   "metadata": {
    "collapsed": true
   },
   "outputs": [],
   "source": [
    "def get_window_bounds(center, step_y, step_x, height, width):\n",
    "    cy = center[0]\n",
    "    cx = center[1]\n",
    "\n",
    "    y_min = int(max(cy - step_y, 0))\n",
    "    y_max = int(min(cy + step_y + 1, height))\n",
    "    x_min = int(max(cx - step_x, 0))\n",
    "    x_max = int(min(cx + step_x + 1, width))\n",
    "    return y_min, y_max, x_min, x_max"
   ]
  },
  {
   "cell_type": "code",
   "execution_count": 14,
   "metadata": {
    "collapsed": false
   },
   "outputs": [],
   "source": [
    "def generate_feature(point, image):\n",
    "    color = np.zeros((image.shape[2],))\n",
    "    feature = np.concatenate([color, point], axis=-1)\n",
    "    for i in xrange(image.shape[2]):\n",
    "        feature[i] = image[feature[-2], feature[-1]][i]\n",
    "    return feature"
   ]
  },
  {
   "cell_type": "code",
   "execution_count": 15,
   "metadata": {
    "collapsed": true
   },
   "outputs": [],
   "source": [
    "def get_yx(feat):\n",
    "    return feat[-2:]"
   ]
  },
  {
   "cell_type": "code",
   "execution_count": 16,
   "metadata": {
    "collapsed": false
   },
   "outputs": [],
   "source": [
    "def calculate_distance(vector, center):\n",
    "#     print vector\n",
    "#     print center\n",
    "#     dy = (center[-2] - vector[-2]) ** 2\n",
    "#     dist_center = (dy + (center[-1] - vector[-1]) ** 2) * spatial_weight\n",
    "\n",
    "#     print dist_center\n",
    "    \n",
    "#     dist_color = 0\n",
    "#     n_features = len(vector)\n",
    "#     for c in range(0, n_features - 2):\n",
    "#         dist_color += (vector[c] - center[c]) ** 2\n",
    "        \n",
    "#     print dist_color\n",
    "#     dist_center += dist_color\n",
    "#     print dist_center\n",
    "#     return dist_center\n",
    "    return np.sum((vector - center) ** 2)"
   ]
  },
  {
   "cell_type": "code",
   "execution_count": 7,
   "metadata": {
    "collapsed": true
   },
   "outputs": [],
   "source": [
    "def generate_features_vec(points, generate_feature, image):\n",
    "    feature_vec = []\n",
    "    for point in points:\n",
    "        feature_vec.append(generate_feature(point, image))\n",
    "    return np.asarray(feature_vec)    "
   ]
  },
  {
   "cell_type": "code",
   "execution_count": 8,
   "metadata": {
    "collapsed": false
   },
   "outputs": [],
   "source": [
    "# params\n",
    "images = ['Images/Q3/castle.jpg']\n",
    "n_segments = 100 # k\n",
    "max_iter = 10"
   ]
  },
  {
   "cell_type": "code",
   "execution_count": 9,
   "metadata": {
    "collapsed": false
   },
   "outputs": [
    {
     "name": "stdout",
     "output_type": "stream",
     "text": [
      "(313, 500, 3)\n"
     ]
    }
   ],
   "source": [
    "image = io.imread(images[0])\n",
    "# image = color.rgb2lab(image)\n",
    "height, width = image.shape[:2]\n",
    "print image.shape"
   ]
  },
  {
   "cell_type": "code",
   "execution_count": 10,
   "metadata": {
    "collapsed": false
   },
   "outputs": [],
   "source": [
    "segments_yx, step_y, step_x = get_k_centers(n_segments, height, width)"
   ]
  },
  {
   "cell_type": "code",
   "execution_count": 11,
   "metadata": {
    "collapsed": false,
    "scrolled": true
   },
   "outputs": [
    {
     "name": "stderr",
     "output_type": "stream",
     "text": [
      "/usr/local/lib/python2.7/site-packages/ipykernel/__main__.py:18: DeprecationWarning: using a non-integer number instead of an integer will result in an error in the future\n"
     ]
    }
   ],
   "source": [
    "n_centers = segments_yx.shape[0]\n",
    "\n",
    "nearest_segments = np.empty((height, width), dtype=np.intp)\n",
    "distance = np.empty((height, width), dtype=np.double)\n",
    "\n",
    "n_segment_elems = np.zeros(n_centers, dtype=np.intp)\n",
    "\n",
    "c_feat_all = generate_features_vec(segments_yx, generate_feature, image)\n",
    "    \n",
    "# for i in xrange(max_iter):\n",
    "for i in xrange(1):\n",
    "    change = 0\n",
    "    distance[:, :] = sys.float_info.max\n",
    "    for k in xrange(n_centers):\n",
    "        c_feat = c_feat_all[k]\n",
    "        c = get_yx(c_feat)\n",
    "        y_min, y_max, x_min, x_max = get_window_bounds(c, step_y, step_x, height, width)\n",
    "        for y in xrange(y_min, y_max):\n",
    "            for x in xrange(x_min, x_max):\n",
    "                yx_feat = generate_feature((y, x), image)\n",
    "                dist = calculate_distance(yx_feat, c_feat)\n",
    "                if dist < distance[y, x]:\n",
    "                    nearest_segments[y, x] = k\n",
    "                    distance[y, x] = dist\n",
    "                    change = 1\n",
    "                \n",
    "    if change == 0:\n",
    "        break\n",
    "\n",
    "    n_segment_elems[:] = 0\n",
    "    c_feat_all[:, :] = 0\n",
    "    for y in xrange(height):\n",
    "        for x in xrange(width):\n",
    "            k = nearest_segments[y, x]\n",
    "            n_segment_elems[k] += 1\n",
    "            yx_feat = generate_feature((y, x), image)\n",
    "            c_feat_all[k] += yx_feat\n",
    "            \n",
    "    for k in xrange(n_centers):\n",
    "        c_feat_all[k] /= n_segment_elems[k]"
   ]
  },
  {
   "cell_type": "code",
   "execution_count": null,
   "metadata": {
    "collapsed": false
   },
   "outputs": [],
   "source": []
  },
  {
   "cell_type": "code",
   "execution_count": null,
   "metadata": {
    "collapsed": false
   },
   "outputs": [],
   "source": [
    "# compactness=10.\n",
    "# ratio = 1.0 / compactness"
   ]
  },
  {
   "cell_type": "code",
   "execution_count": null,
   "metadata": {
    "collapsed": true
   },
   "outputs": [],
   "source": []
  }
 ],
 "metadata": {
  "kernelspec": {
   "display_name": "Python 2",
   "language": "python",
   "name": "python2"
  },
  "language_info": {
   "codemirror_mode": {
    "name": "ipython",
    "version": 2
   },
   "file_extension": ".py",
   "mimetype": "text/x-python",
   "name": "python",
   "nbconvert_exporter": "python",
   "pygments_lexer": "ipython2",
   "version": "2.7.11"
  }
 },
 "nbformat": 4,
 "nbformat_minor": 0
}
