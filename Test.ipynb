{
 "cells": [
  {
   "cell_type": "code",
   "execution_count": 322,
   "metadata": {
    "collapsed": true
   },
   "outputs": [],
   "source": [
    "%matplotlib inline\n",
    "\n",
    "import matplotlib as mpl\n",
    "# mpl.use('TkAgg')\n",
    "# import matplotlib.cm as cm\n",
    "# from scipy.ndimage import filters as filters\n",
    "from skimage import io, color, util\n",
    "import numpy as np\n",
    "# import math\n",
    "import os\n",
    "# import utils as custom_utils\n",
    "import collections as coll"
   ]
  },
  {
   "cell_type": "code",
   "execution_count": 323,
   "metadata": {
    "collapsed": true
   },
   "outputs": [],
   "source": [
    "images = ['Images/Q3/castle.jpg']"
   ]
  },
  {
   "cell_type": "code",
   "execution_count": 324,
   "metadata": {
    "collapsed": false
   },
   "outputs": [],
   "source": [
    "image = io.imread(images[0])\n",
    "# image = color.rgb2lab(image)"
   ]
  },
  {
   "cell_type": "code",
   "execution_count": 367,
   "metadata": {
    "collapsed": false
   },
   "outputs": [],
   "source": [
    "height, width = image.shape[:2]\n",
    "n_segments = 100\n",
    "max_iter = 10\n",
    "spatial_weight = 1"
   ]
  },
  {
   "cell_type": "code",
   "execution_count": 357,
   "metadata": {
    "collapsed": false
   },
   "outputs": [],
   "source": [
    "def get_k_centers(k, height, width):\n",
    "    grid_y, grid_x = np.mgrid[:height, :width]\n",
    "    slices = util.regular_grid((height, width), k)\n",
    "    step_y, step_x = [int(s.step if s.step is not None else 1) for s in slices]\n",
    "    segments_y = grid_y[slices]\n",
    "    segments_x = grid_x[slices]\n",
    "    \n",
    "    centers = np.concatenate([segments_y[..., np.newaxis], segments_x[..., np.newaxis]], axis=-1)\n",
    "    centers = segments_xy.reshape(-1, 2)\n",
    "    \n",
    "    return centers, step_y, step_x"
   ]
  },
  {
   "cell_type": "code",
   "execution_count": 358,
   "metadata": {
    "collapsed": false
   },
   "outputs": [],
   "source": [
    "segments_xy, step_y, step_x = get_k_centers(n_segments, height, width)"
   ]
  },
  {
   "cell_type": "code",
   "execution_count": 359,
   "metadata": {
    "collapsed": true
   },
   "outputs": [],
   "source": [
    "def get_window_bounds(center, step_y, step_x, height, width):\n",
    "    cy = center[0]\n",
    "    cx = center[1]\n",
    "\n",
    "    y_min = max(cy - step_y, 0)\n",
    "    y_max = min(cy + step_y + 1, height)\n",
    "    x_min = max(cx - step_x, 0)\n",
    "    x_max = min(cx + step_x + 1, width)\n",
    "    return y_min, y_max, x_min, x_max"
   ]
  },
  {
   "cell_type": "code",
   "execution_count": 368,
   "metadata": {
    "collapsed": false,
    "scrolled": true
   },
   "outputs": [],
   "source": [
    "n_centers = segments_xy.shape[0]\n",
    "\n",
    "for i in xrange(max_iter):\n",
    "    change = 0\n",
    "    for k in xrange(n_centers):\n",
    "        c = segments_xy[k]\n",
    "        y_min, y_max, x_min, x_max = get_window_bounds(c, step_y, step_x, height, width)\n",
    "        for y in xrange(y_min, y_max):\n",
    "            dy = (c[0] - y) ** 2\n",
    "            for x in xrange(x_min, x_max):\n",
    "                dist_center = (dy + (c[1] - x) ** 2) * spatial_weight\n",
    "                "
   ]
  },
  {
   "cell_type": "code",
   "execution_count": 306,
   "metadata": {
    "collapsed": false
   },
   "outputs": [],
   "source": [
    "segments_color = np.zeros(segments_x.shape + (image.shape[2],))\n",
    "segments_color = segments_color.reshape(-1, image.shape[2])\n",
    "\n",
    "# print np.concatenate([segments_color, segments_xy], axis=-1)"
   ]
  },
  {
   "cell_type": "code",
   "execution_count": 307,
   "metadata": {
    "collapsed": false
   },
   "outputs": [],
   "source": [
    "# compactness=10.\n",
    "# ratio = 1.0 / compactness"
   ]
  },
  {
   "cell_type": "code",
   "execution_count": null,
   "metadata": {
    "collapsed": false
   },
   "outputs": [],
   "source": []
  },
  {
   "cell_type": "code",
   "execution_count": null,
   "metadata": {
    "collapsed": true
   },
   "outputs": [],
   "source": []
  }
 ],
 "metadata": {
  "kernelspec": {
   "display_name": "Python 2",
   "language": "python",
   "name": "python2"
  },
  "language_info": {
   "codemirror_mode": {
    "name": "ipython",
    "version": 2
   },
   "file_extension": ".py",
   "mimetype": "text/x-python",
   "name": "python",
   "nbconvert_exporter": "python",
   "pygments_lexer": "ipython2",
   "version": "2.7.11"
  }
 },
 "nbformat": 4,
 "nbformat_minor": 0
}
